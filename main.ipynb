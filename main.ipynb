{
  "nbformat": 4,
  "nbformat_minor": 0,
  "metadata": {
    "colab": {
      "provenance": [],
      "authorship_tag": "ABX9TyNDCpct8QJJcBciXfqRjuio",
      "include_colab_link": true
    },
    "kernelspec": {
      "name": "python3",
      "display_name": "Python 3"
    },
    "language_info": {
      "name": "python"
    }
  },
  "cells": [
    {
      "cell_type": "markdown",
      "metadata": {
        "id": "view-in-github",
        "colab_type": "text"
      },
      "source": [
        "<a href=\"https://colab.research.google.com/github/mayankyadavblr/Ansible_Test/blob/main/main.ipynb\" target=\"_parent\"><img src=\"https://colab.research.google.com/assets/colab-badge.svg\" alt=\"Open In Colab\"/></a>"
      ]
    },
    {
      "cell_type": "markdown",
      "source": [
        "# Required Libraries"
      ],
      "metadata": {
        "id": "KSOeATMIHBb2"
      }
    },
    {
      "cell_type": "code",
      "source": [
        "%pip install PyDrive2\n",
        "%pip install pypandoc_binary\n",
        "%pip install pypandoc"
      ],
      "metadata": {
        "colab": {
          "base_uri": "https://localhost:8080/"
        },
        "id": "Tg0UAOVwG_YO",
        "outputId": "fbd6c3ba-413b-48e9-c126-7e7e38fc5c73"
      },
      "execution_count": 4,
      "outputs": [
        {
          "output_type": "stream",
          "name": "stdout",
          "text": [
            "Requirement already satisfied: PyDrive2 in /usr/local/lib/python3.11/dist-packages (1.21.3)\n",
            "Requirement already satisfied: google-api-python-client>=1.12.5 in /usr/local/lib/python3.11/dist-packages (from PyDrive2) (2.155.0)\n",
            "Requirement already satisfied: oauth2client>=4.0.0 in /usr/local/lib/python3.11/dist-packages (from PyDrive2) (4.1.3)\n",
            "Requirement already satisfied: PyYAML>=3.0 in /usr/local/lib/python3.11/dist-packages (from PyDrive2) (6.0.2)\n",
            "Requirement already satisfied: cryptography<44 in /usr/local/lib/python3.11/dist-packages (from PyDrive2) (43.0.3)\n",
            "Requirement already satisfied: pyOpenSSL<=24.2.1,>=19.1.0 in /usr/local/lib/python3.11/dist-packages (from PyDrive2) (24.2.1)\n",
            "Requirement already satisfied: cffi>=1.12 in /usr/local/lib/python3.11/dist-packages (from cryptography<44->PyDrive2) (1.17.1)\n",
            "Requirement already satisfied: httplib2<1.dev0,>=0.19.0 in /usr/local/lib/python3.11/dist-packages (from google-api-python-client>=1.12.5->PyDrive2) (0.22.0)\n",
            "Requirement already satisfied: google-auth!=2.24.0,!=2.25.0,<3.0.0.dev0,>=1.32.0 in /usr/local/lib/python3.11/dist-packages (from google-api-python-client>=1.12.5->PyDrive2) (2.27.0)\n",
            "Requirement already satisfied: google-auth-httplib2<1.0.0,>=0.2.0 in /usr/local/lib/python3.11/dist-packages (from google-api-python-client>=1.12.5->PyDrive2) (0.2.0)\n",
            "Requirement already satisfied: google-api-core!=2.0.*,!=2.1.*,!=2.2.*,!=2.3.0,<3.0.0.dev0,>=1.31.5 in /usr/local/lib/python3.11/dist-packages (from google-api-python-client>=1.12.5->PyDrive2) (2.19.2)\n",
            "Requirement already satisfied: uritemplate<5,>=3.0.1 in /usr/local/lib/python3.11/dist-packages (from google-api-python-client>=1.12.5->PyDrive2) (4.1.1)\n",
            "Requirement already satisfied: pyasn1>=0.1.7 in /usr/local/lib/python3.11/dist-packages (from oauth2client>=4.0.0->PyDrive2) (0.6.1)\n",
            "Requirement already satisfied: pyasn1-modules>=0.0.5 in /usr/local/lib/python3.11/dist-packages (from oauth2client>=4.0.0->PyDrive2) (0.4.1)\n",
            "Requirement already satisfied: rsa>=3.1.4 in /usr/local/lib/python3.11/dist-packages (from oauth2client>=4.0.0->PyDrive2) (4.9)\n",
            "Requirement already satisfied: six>=1.6.1 in /usr/local/lib/python3.11/dist-packages (from oauth2client>=4.0.0->PyDrive2) (1.17.0)\n",
            "Requirement already satisfied: pycparser in /usr/local/lib/python3.11/dist-packages (from cffi>=1.12->cryptography<44->PyDrive2) (2.22)\n",
            "Requirement already satisfied: googleapis-common-protos<2.0.dev0,>=1.56.2 in /usr/local/lib/python3.11/dist-packages (from google-api-core!=2.0.*,!=2.1.*,!=2.2.*,!=2.3.0,<3.0.0.dev0,>=1.31.5->google-api-python-client>=1.12.5->PyDrive2) (1.66.0)\n",
            "Requirement already satisfied: protobuf!=3.20.0,!=3.20.1,!=4.21.0,!=4.21.1,!=4.21.2,!=4.21.3,!=4.21.4,!=4.21.5,<6.0.0.dev0,>=3.19.5 in /usr/local/lib/python3.11/dist-packages (from google-api-core!=2.0.*,!=2.1.*,!=2.2.*,!=2.3.0,<3.0.0.dev0,>=1.31.5->google-api-python-client>=1.12.5->PyDrive2) (4.25.5)\n",
            "Requirement already satisfied: proto-plus<2.0.0dev,>=1.22.3 in /usr/local/lib/python3.11/dist-packages (from google-api-core!=2.0.*,!=2.1.*,!=2.2.*,!=2.3.0,<3.0.0.dev0,>=1.31.5->google-api-python-client>=1.12.5->PyDrive2) (1.25.0)\n",
            "Requirement already satisfied: requests<3.0.0.dev0,>=2.18.0 in /usr/local/lib/python3.11/dist-packages (from google-api-core!=2.0.*,!=2.1.*,!=2.2.*,!=2.3.0,<3.0.0.dev0,>=1.31.5->google-api-python-client>=1.12.5->PyDrive2) (2.32.3)\n",
            "Requirement already satisfied: cachetools<6.0,>=2.0.0 in /usr/local/lib/python3.11/dist-packages (from google-auth!=2.24.0,!=2.25.0,<3.0.0.dev0,>=1.32.0->google-api-python-client>=1.12.5->PyDrive2) (5.5.1)\n",
            "Requirement already satisfied: pyparsing!=3.0.0,!=3.0.1,!=3.0.2,!=3.0.3,<4,>=2.4.2 in /usr/local/lib/python3.11/dist-packages (from httplib2<1.dev0,>=0.19.0->google-api-python-client>=1.12.5->PyDrive2) (3.2.1)\n",
            "Requirement already satisfied: charset-normalizer<4,>=2 in /usr/local/lib/python3.11/dist-packages (from requests<3.0.0.dev0,>=2.18.0->google-api-core!=2.0.*,!=2.1.*,!=2.2.*,!=2.3.0,<3.0.0.dev0,>=1.31.5->google-api-python-client>=1.12.5->PyDrive2) (3.4.1)\n",
            "Requirement already satisfied: idna<4,>=2.5 in /usr/local/lib/python3.11/dist-packages (from requests<3.0.0.dev0,>=2.18.0->google-api-core!=2.0.*,!=2.1.*,!=2.2.*,!=2.3.0,<3.0.0.dev0,>=1.31.5->google-api-python-client>=1.12.5->PyDrive2) (3.10)\n",
            "Requirement already satisfied: urllib3<3,>=1.21.1 in /usr/local/lib/python3.11/dist-packages (from requests<3.0.0.dev0,>=2.18.0->google-api-core!=2.0.*,!=2.1.*,!=2.2.*,!=2.3.0,<3.0.0.dev0,>=1.31.5->google-api-python-client>=1.12.5->PyDrive2) (2.3.0)\n",
            "Requirement already satisfied: certifi>=2017.4.17 in /usr/local/lib/python3.11/dist-packages (from requests<3.0.0.dev0,>=2.18.0->google-api-core!=2.0.*,!=2.1.*,!=2.2.*,!=2.3.0,<3.0.0.dev0,>=1.31.5->google-api-python-client>=1.12.5->PyDrive2) (2024.12.14)\n",
            "Requirement already satisfied: pypandoc_binary in /usr/local/lib/python3.11/dist-packages (1.15)\n",
            "Requirement already satisfied: pypandoc in /usr/local/lib/python3.11/dist-packages (1.15)\n"
          ]
        }
      ]
    },
    {
      "cell_type": "markdown",
      "source": [
        "# Imports"
      ],
      "metadata": {
        "id": "XfpJc-JFHPz7"
      }
    },
    {
      "cell_type": "code",
      "execution_count": 7,
      "metadata": {
        "id": "r8sJXg8JiZ1I"
      },
      "outputs": [],
      "source": [
        "import pypandoc\n",
        "import os\n",
        "from pydrive2.auth import GoogleAuth\n",
        "from pydrive2.drive import GoogleDrive\n",
        "from google.colab import auth\n",
        "from oauth2client.client import GoogleCredentials\n",
        "from markdown import markdown"
      ]
    },
    {
      "cell_type": "markdown",
      "source": [
        "# Authenticating Google Account"
      ],
      "metadata": {
        "id": "CXKhbNwOH1oN"
      }
    },
    {
      "cell_type": "code",
      "source": [
        "try:\n",
        "    # Authenticate the user\n",
        "    print(\"Authenticating the user...\")\n",
        "    gauth = GoogleAuth()\n",
        "\n",
        "    # Attempt to retrieve application default credentials\n",
        "    print(\"Retrieving Google application default credentials...\")\n",
        "    gauth.credentials = GoogleCredentials.get_application_default()\n",
        "\n",
        "    # Create a GoogleDrive instance using authenticated credentials\n",
        "    print(\"Initializing Google Drive client...\")\n",
        "    drive = GoogleDrive(gauth)\n",
        "\n",
        "    print(\"Authentication successful and Google Drive client initialized.\")\n",
        "\n",
        "except Exception as e:\n",
        "    # Handle exceptions that might occur during the authentication process\n",
        "    print(\"An error occurred during authentication or initialization of the Google Drive client.\")\n",
        "    print(f\"Error details: {e}\")"
      ],
      "metadata": {
        "colab": {
          "base_uri": "https://localhost:8080/"
        },
        "id": "h5WuJE4yHWXd",
        "outputId": "f2590a67-2e2d-4ba9-994b-a233355c23d7"
      },
      "execution_count": 14,
      "outputs": [
        {
          "output_type": "stream",
          "name": "stdout",
          "text": [
            "Authenticating the user...\n",
            "Retrieving Google application default credentials...\n",
            "Initializing Google Drive client...\n",
            "Authentication successful and Google Drive client initialized.\n"
          ]
        }
      ]
    },
    {
      "cell_type": "markdown",
      "source": [
        "# Defining Markdown Content"
      ],
      "metadata": {
        "id": "KAJRUj7uII27"
      }
    },
    {
      "cell_type": "code",
      "source": [
        "content = \"\"\"\n",
        "# Product Team Sync - May 15, 2023\n",
        "\n",
        "## Attendees\n",
        "- Sarah Chen (Product Lead)\n",
        "- Mike Johnson (Engineering)\n",
        "- Anna Smith (Design)\n",
        "- David Park (QA)\n",
        "\n",
        "## Agenda\n",
        "\n",
        "### 1. Sprint Review\n",
        "* Completed Features\n",
        "  * User authentication flow\n",
        "  * Dashboard redesign\n",
        "  * Performance optimization\n",
        "    * Reduced load time by 40%\n",
        "    * Implemented caching solution\n",
        "* Pending Items\n",
        "  * Mobile responsive fixes\n",
        "  * Beta testing feedback integration\n",
        "\n",
        "### 2. Current Challenges\n",
        "* Resource constraints in QA team\n",
        "* Third-party API integration delays\n",
        "* User feedback on new UI\n",
        "  * Navigation confusion\n",
        "  * Color contrast issues\n",
        "\n",
        "### 3. Next Sprint Planning\n",
        "* Priority Features\n",
        "  * Payment gateway integration\n",
        "  * User profile enhancement\n",
        "  * Analytics dashboard\n",
        "* Technical Debt\n",
        "  * Code refactoring\n",
        "  * Documentation updates\n",
        "\n",
        "## Action Items\n",
        "* [ ] @sarah: Finalize Q3 roadmap by Friday\n",
        "* [ ] @mike: Schedule technical review for payment integration\n",
        "* [ ] @anna: Share updated design system documentation\n",
        "* [ ] @david: Prepare QA resource allocation proposal\n",
        "\n",
        "## Next Steps\n",
        "* Schedule individual team reviews\n",
        "* Update sprint board\n",
        "* Share meeting summary with stakeholders\n",
        "\n",
        "## Notes\n",
        "* Next sync scheduled for May 22, 2023\n",
        "* Platform demo for stakeholders on May 25\n",
        "* Remember to update JIRA tickets\n",
        "\n",
        "---\n",
        "Meeting recorded by: Sarah Chen\n",
        "Duration: 45 minutes\n",
        "\n",
        "\"\"\"\n",
        "print(\"Markdown to be converted to Docs has been set!\")"
      ],
      "metadata": {
        "colab": {
          "base_uri": "https://localhost:8080/"
        },
        "id": "9pK4gU7qINRk",
        "outputId": "e998502a-a3b9-4407-a87a-69b646f20ed8"
      },
      "execution_count": 16,
      "outputs": [
        {
          "output_type": "stream",
          "name": "stdout",
          "text": [
            "Markdown to be converted to Docs has been set!\n"
          ]
        }
      ]
    },
    {
      "cell_type": "markdown",
      "source": [
        "# Converting Formats"
      ],
      "metadata": {
        "id": "JQQ2nHQPISSc"
      }
    },
    {
      "cell_type": "code",
      "source": [
        "try:\n",
        "    print(\"Converting Markdown content to HTML...\")\n",
        "\n",
        "    # Replace 'content' with the actual Markdown content you want to convert\n",
        "    if not content:\n",
        "        raise ValueError(\"The content is empty. Please provide valid Markdown content.\")\n",
        "\n",
        "    html_doc = markdown(content)\n",
        "    print(\"Conversion successful!\")\n",
        "\n",
        "except ImportError as e:\n",
        "    # Handle missing library errors\n",
        "    print(\"The 'markdown2' library is not installed. Please install it using 'pip install markdown2'.\")\n",
        "    print(f\"Error details: {e}\")\n",
        "\n",
        "except ValueError as e:\n",
        "    # Handle empty or invalid content\n",
        "    print(\"Invalid content provided for conversion.\")\n",
        "    print(f\"Error details: {e}\")\n",
        "\n",
        "except Exception as e:\n",
        "    # Handle any other unexpected errors\n",
        "    print(\"An unexpected error occurred during Markdown to HTML conversion.\")\n",
        "    print(f\"Error details: {e}\")\n"
      ],
      "metadata": {
        "colab": {
          "base_uri": "https://localhost:8080/"
        },
        "id": "tfiy0QdGIgpH",
        "outputId": "41726ed4-1b50-4e56-9bc9-3a1d112972de"
      },
      "execution_count": 12,
      "outputs": [
        {
          "output_type": "stream",
          "name": "stdout",
          "text": [
            "Converting Markdown content to HTML...\n",
            "Conversion successful!\n"
          ]
        }
      ]
    },
    {
      "cell_type": "markdown",
      "source": [
        "# Uploading to Drive"
      ],
      "metadata": {
        "id": "PiXE4SFpIoMw"
      }
    },
    {
      "cell_type": "code",
      "source": [
        "try:\n",
        "    print(\"Preparing to upload a document to Google Drive...\")\n",
        "    filename = input(\"Enter the name of the file you would like to use: \").strip()\n",
        "\n",
        "    if not filename:\n",
        "        raise ValueError(\"Filename cannot be empty. Please provide a valid file name.\")\n",
        "\n",
        "    # Create a Google Drive file object\n",
        "    print(f\"Creating file '{filename}'...\")\n",
        "    file1 = drive.CreateFile(\n",
        "        {\n",
        "            \"title\": filename,\n",
        "            \"mimeType\": \"application/vnd.openxmlformats-officedocument.wordprocessingml.document\"\n",
        "        }\n",
        "    )\n",
        "\n",
        "    # Set the content of the file using the HTML document\n",
        "    print(\"Setting content for the file...\")\n",
        "    if not html_doc:\n",
        "        raise ValueError(\"The HTML document is empty. Please provide valid content to upload.\")\n",
        "\n",
        "    file1.SetContentString(html_doc)\n",
        "\n",
        "    print(\"Uploading the file to Google Drive...\")\n",
        "    file1.Upload()\n",
        "\n",
        "    print(f\"File '{filename}' uploaded successfully to Google Drive!\")\n",
        "\n",
        "except ImportError as e:\n",
        "    # Handle missing library errors\n",
        "    print(\"The necessary libraries for Google Drive operations are not installed.\")\n",
        "    print(f\"Error details: {e}\")\n",
        "\n",
        "except ValueError as e:\n",
        "    # Handle cases where input or content is invalid\n",
        "    print(\"Invalid input or content.\")\n",
        "    print(f\"Error details: {e}\")\n",
        "\n",
        "except Exception as e:\n",
        "    # Handle any other unexpected errors\n",
        "    print(\"An unexpected error occurred during the file upload process.\")\n",
        "    print(f\"Error details: {e}\")\n"
      ],
      "metadata": {
        "colab": {
          "base_uri": "https://localhost:8080/"
        },
        "id": "3T7BAxB5i0PR",
        "outputId": "29f54983-e2db-4d13-8f6b-3ff3d32bdc42"
      },
      "execution_count": 13,
      "outputs": [
        {
          "output_type": "stream",
          "name": "stdout",
          "text": [
            "Preparing to upload a document to Google Drive...\n",
            "Enter the name of the file you would like to use: final\n",
            "Creating file 'final'...\n",
            "Setting content for the file...\n",
            "Uploading the file to Google Drive...\n",
            "File 'final' uploaded successfully to Google Drive!\n"
          ]
        }
      ]
    },
    {
      "cell_type": "code",
      "source": [],
      "metadata": {
        "id": "gDvigX1FIsL1"
      },
      "execution_count": null,
      "outputs": []
    }
  ]
}